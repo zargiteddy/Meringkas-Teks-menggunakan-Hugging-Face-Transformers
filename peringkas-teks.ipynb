{
 "cells": [
  {
   "cell_type": "markdown",
   "id": "912987ef",
   "metadata": {},
   "source": [
    "### 1. Import _libraries_ yang dibutuhkan"
   ]
  },
  {
   "cell_type": "code",
   "execution_count": 1,
   "id": "8af967cd",
   "metadata": {},
   "outputs": [
    {
     "name": "stdout",
     "output_type": "stream",
     "text": [
      "WARNING:tensorflow:From C:\\Users\\LENOVO\\anaconda3\\envs\\porto\\Lib\\site-packages\\keras\\src\\losses.py:2976: The name tf.losses.sparse_softmax_cross_entropy is deprecated. Please use tf.compat.v1.losses.sparse_softmax_cross_entropy instead.\n",
      "\n"
     ]
    }
   ],
   "source": [
    "from transformers import pipeline"
   ]
  },
  {
   "cell_type": "markdown",
   "id": "db52e52b",
   "metadata": {},
   "source": [
    "### 2. Load _summarization pipeline_ untuk meringkas teks"
   ]
  },
  {
   "cell_type": "code",
   "execution_count": 2,
   "id": "e059b66b",
   "metadata": {},
   "outputs": [
    {
     "name": "stderr",
     "output_type": "stream",
     "text": [
      "No model was supplied, defaulted to sshleifer/distilbart-cnn-12-6 and revision a4f8f3e (https://huggingface.co/sshleifer/distilbart-cnn-12-6).\n",
      "Using a pipeline without specifying a model name and revision in production is not recommended.\n"
     ]
    },
    {
     "data": {
      "application/vnd.jupyter.widget-view+json": {
       "model_id": "10efc210139145d08c031111204855cf",
       "version_major": 2,
       "version_minor": 0
      },
      "text/plain": [
       "config.json:   0%|          | 0.00/1.80k [00:01<?, ?B/s]"
      ]
     },
     "metadata": {},
     "output_type": "display_data"
    },
    {
     "name": "stderr",
     "output_type": "stream",
     "text": [
      "C:\\Users\\LENOVO\\anaconda3\\envs\\porto\\Lib\\site-packages\\huggingface_hub\\file_download.py:147: UserWarning: `huggingface_hub` cache-system uses symlinks by default to efficiently store duplicated files but your machine does not support them in C:\\Users\\LENOVO\\.cache\\huggingface\\hub. Caching files will still work but in a degraded version that might require more space on your disk. This warning can be disabled by setting the `HF_HUB_DISABLE_SYMLINKS_WARNING` environment variable. For more details, see https://huggingface.co/docs/huggingface_hub/how-to-cache#limitations.\n",
      "To support symlinks on Windows, you either need to activate Developer Mode or to run Python as an administrator. In order to see activate developer mode, see this article: https://docs.microsoft.com/en-us/windows/apps/get-started/enable-your-device-for-development\n",
      "  warnings.warn(message)\n"
     ]
    },
    {
     "data": {
      "application/vnd.jupyter.widget-view+json": {
       "model_id": "67634631c37d4680ad3b28522b0d99b1",
       "version_major": 2,
       "version_minor": 0
      },
      "text/plain": [
       "pytorch_model.bin:   0%|          | 0.00/1.22G [00:00<?, ?B/s]"
      ]
     },
     "metadata": {},
     "output_type": "display_data"
    },
    {
     "data": {
      "application/vnd.jupyter.widget-view+json": {
       "model_id": "f153af737680449c8383bd540eb357e4",
       "version_major": 2,
       "version_minor": 0
      },
      "text/plain": [
       "tokenizer_config.json:   0%|          | 0.00/26.0 [00:01<?, ?B/s]"
      ]
     },
     "metadata": {},
     "output_type": "display_data"
    },
    {
     "data": {
      "application/vnd.jupyter.widget-view+json": {
       "model_id": "a956049e03124fee919d98c316c7f698",
       "version_major": 2,
       "version_minor": 0
      },
      "text/plain": [
       "vocab.json:   0%|          | 0.00/899k [00:00<?, ?B/s]"
      ]
     },
     "metadata": {},
     "output_type": "display_data"
    },
    {
     "data": {
      "application/vnd.jupyter.widget-view+json": {
       "model_id": "d70b3ae3286040faa3066fe99c27827b",
       "version_major": 2,
       "version_minor": 0
      },
      "text/plain": [
       "merges.txt:   0%|          | 0.00/456k [00:00<?, ?B/s]"
      ]
     },
     "metadata": {},
     "output_type": "display_data"
    }
   ],
   "source": [
    "peringkas_teks = pipeline(\"summarization\")"
   ]
  },
  {
   "cell_type": "markdown",
   "id": "4df6d923",
   "metadata": {},
   "source": [
    "### 3. Ringkas teks"
   ]
  },
  {
   "cell_type": "code",
   "execution_count": 4,
   "id": "b287c715",
   "metadata": {},
   "outputs": [],
   "source": [
    "teks_artikel = \"\"\"\n",
    "AI detection is using sophisticated machine learning and natural language processing \n",
    "models to help differentiate between human-generated and computer-generated texts. \n",
    "It involves using AI detection software that is trained on established libraries of \n",
    "pre-existing texts to develop predictive algorithms that recognize patterns within \n",
    "new testing data. You’ll then get a probability score indicating whether the assessed \n",
    "material was created manually or through automated means.AI text detection is important \n",
    "to ensure that information remains reliable, and it’s critical in areas like search \n",
    "engine optimization (SEO), academia, and law. AI content generators are undoubtedly \n",
    "helpful and a must-use to be competitive. But they are also notoriously unreliable. \n",
    "So Google, schools, and clients want to ensure you aren’t just publishing raw content \n",
    "without using your brain.\n",
    "\"\"\"\n",
    "### https://hackernoon.com/a-detailed-overview-of-how-ai-detectors-work"
   ]
  },
  {
   "cell_type": "code",
   "execution_count": 12,
   "id": "3eb1ec1d",
   "metadata": {
    "scrolled": false
   },
   "outputs": [
    {
     "data": {
      "text/plain": [
       "[{'summary_text': ' AI content generators are undoubtedly helpful and a must-use to be competitive . But they are notoriously unreliable . Google, schools, and clients want to ensure you aren’t just publishing raw content  without using your brain .'}]"
      ]
     },
     "execution_count": 12,
     "metadata": {},
     "output_type": "execute_result"
    }
   ],
   "source": [
    "peringkas_teks(teks_artikel, max_length=100, min_length=20, do_sample=False)"
   ]
  },
  {
   "cell_type": "code",
   "execution_count": null,
   "id": "a53c8f76",
   "metadata": {},
   "outputs": [],
   "source": []
  }
 ],
 "metadata": {
  "kernelspec": {
   "display_name": "porto",
   "language": "python",
   "name": "porto"
  },
  "language_info": {
   "codemirror_mode": {
    "name": "ipython",
    "version": 3
   },
   "file_extension": ".py",
   "mimetype": "text/x-python",
   "name": "python",
   "nbconvert_exporter": "python",
   "pygments_lexer": "ipython3",
   "version": "3.11.5"
  }
 },
 "nbformat": 4,
 "nbformat_minor": 5
}
